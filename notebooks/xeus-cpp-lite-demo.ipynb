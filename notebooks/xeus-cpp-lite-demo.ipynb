{
 "cells": [
  {
   "cell_type": "markdown",
   "id": "aa9d4f33-5bd8-42f2-918a-e654d4363577",
   "metadata": {},
   "source": [
    "<center>\n",
    "    <h1>C++ kernel based on xeus</h1>\n",
    "</center>\n",
    "\n",
    "A Jupyter kernel for C++ based on the `CppInterOp`, a clang based C++ Interoperability Library and the `xeus` native implementation of the Jupyter protocol, xeus.\n",
    "\n",
    "- GitHub repository: https://github.com/compiler-research/xeus-cpp\n",
    "- Documentation: https://xeus-cpp.readthedocs.io/en/latest/"
   ]
  },
  {
   "cell_type": "markdown",
   "id": "9af8aa44-7786-47b6-b94b-8579470acb3a",
   "metadata": {},
   "source": [
    "## Usage\n",
    "\n",
    "<div style=\"background: #efffed;\n",
    "            border: 1px solid grey;\n",
    "            margin: 8px 0 8px 0;\n",
    "            text-align: center;\n",
    "            padding: 8px; \">\n",
    "    <i class=\"fa-play fa\" \n",
    "       style=\"font-size: 40px;\n",
    "              line-height: 40px;\n",
    "              margin: 8px;\n",
    "              color: #444;\">\n",
    "    </i>\n",
    "    <div>\n",
    "    To run the selected code cell, hit <pre style=\"background: #efffed\">Shift + Enter</pre>\n",
    "    </div>\n",
    "</div>"
   ]
  },
  {
   "cell_type": "markdown",
   "id": "be1c8c6c-3fbe-4f53-9deb-8496c43d26ad",
   "metadata": {},
   "source": [
    "## Output and error streams\n",
    "\n",
    "`std::cout` and `std::cerr` are redirected to the notebook frontend."
   ]
  },
  {
   "cell_type": "code",
   "execution_count": 1,
   "id": "9bd7f767-6c22-4a1b-a1e2-cd4184fd0367",
   "metadata": {
    "vscode": {
     "languageId": "c++"
    }
   },
   "outputs": [
    {
     "name": "stdout",
     "output_type": "stream",
     "text": [
      "some output\n"
     ]
    }
   ],
   "source": [
    "#include <iostream>\n",
    "\n",
    "std::cout << \"some output\" << std::endl;"
   ]
  },
  {
   "cell_type": "code",
   "execution_count": 2,
   "id": "9622f20f-5925-4544-a97b-aada3a14209a",
   "metadata": {
    "vscode": {
     "languageId": "c++"
    }
   },
   "outputs": [
    {
     "name": "stderr",
     "output_type": "stream",
     "text": [
      "some error\n"
     ]
    }
   ],
   "source": [
    "std::cerr << \"some error\" << std::endl;"
   ]
  }
 ],
 "metadata": {
  "kernelspec": {
   "display_name": "C++20",
   "language": "cpp",
   "name": "xcpp20"
  },
  "language_info": {
   "codemirror_mode": "text/x-c++src",
   "file_extension": ".cpp",
   "mimetype": "text/x-c++src",
   "name": "C++",
   "version": "20"
  }
 },
 "nbformat": 4,
 "nbformat_minor": 5
}
