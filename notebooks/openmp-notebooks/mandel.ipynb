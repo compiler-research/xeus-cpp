{
 "cells": [
  {
   "cell_type": "code",
   "execution_count": 1,
   "id": "5059dbdd-821d-498a-8716-eb0fcf8a8f5f",
   "metadata": {},
   "outputs": [],
   "source": [
    "#include <stdio.h>\n",
    "#include <stdlib.h>\n",
    "#include <math.h>\n",
    "#include <omp.h>\n",
    "#include <clang/Interpreter/CppInterOp.h>"
   ]
  },
  {
   "cell_type": "code",
   "execution_count": 2,
   "id": "4e037323-fbc6-43c8-a17f-6044997bf49b",
   "metadata": {},
   "outputs": [],
   "source": [
    "Cpp::LoadLibrary(\"libomp\");"
   ]
  },
  {
   "cell_type": "code",
   "execution_count": 3,
   "id": "8b66f96a-14ef-4f23-8024-bcfc42b31e4e",
   "metadata": {},
   "outputs": [],
   "source": [
    "#define NPOINTS 1000\n",
    "#define MAXITER 1000"
   ]
  },
  {
   "cell_type": "code",
   "execution_count": 4,
   "id": "d89dd57c-fe19-4233-a33a-df9b24fae98a",
   "metadata": {},
   "outputs": [],
   "source": [
    "int numoutside = 0;"
   ]
  },
  {
   "cell_type": "code",
   "execution_count": 5,
   "id": "5c35c479-2f79-46b7-bc66-24be6b1694e0",
   "metadata": {},
   "outputs": [],
   "source": [
    "void testpoint(double creal, double cimag) {\n",
    "    // iterate z=z*z+c, until |z| > 2 when point is known to be outside set\n",
    "    // If loop count reaches MAXITER, point is considered to be inside the set\n",
    "\n",
    "    double zreal, zimag, temp;\n",
    "    int iter;\n",
    "    zreal = creal;\n",
    "    zimag = cimag;\n",
    "\n",
    "    for (iter = 0; iter < MAXITER; iter++) {\n",
    "        temp = (zreal * zreal) - (zimag * zimag) + creal;\n",
    "        zimag = zreal * zimag * 2 + cimag;\n",
    "        zreal = temp;\n",
    "        if ((zreal * zreal + zimag * zimag) > 4.0) {\n",
    "            numoutside++;\n",
    "            break;\n",
    "        }\n",
    "    }\n",
    "}"
   ]
  },
  {
   "cell_type": "code",
   "execution_count": 6,
   "id": "ea116fef-7d05-4e29-97a1-55c85c7241d8",
   "metadata": {},
   "outputs": [],
   "source": [
    "int main() {\n",
    "    int i, j;\n",
    "    double area, error, eps = 1.0e-5;\n",
    "    double cimag, creal;\n",
    "    // Loop over grid of points in the complex plane which contains the Mandelbrot set,\n",
    "    // testing each point to see whether it is inside or outside the set.\n",
    "\n",
    "#pragma omp parallel for private(eps)\n",
    "    for (i = 0; i < NPOINTS; i++) {\n",
    "        for (j = 0; j < NPOINTS; j++) {\n",
    "            creal = -2.0 + 2.5 * (double) (i) / (double) (NPOINTS) + eps;\n",
    "            cimag = 1.125 * (double) (j) / (double) (NPOINTS) + eps;\n",
    "            testpoint(creal, cimag);\n",
    "        }\n",
    "    }\n",
    "\n",
    "    // Calculate area of set and error estimate and output the results\n",
    "    area = 2.0 * 2.5 * 1.125 * (double) (NPOINTS * NPOINTS - numoutside) / (double) (NPOINTS * NPOINTS);\n",
    "    error = area / (double) NPOINTS;\n",
    "\n",
    "    printf(\"Area of Mandlebrot set = %12.8f +/- %12.8f\\n\", area, error);\n",
    "    printf(\"Correct answer should be around 1.510659\\n\");\n",
    "}"
   ]
  },
  {
   "cell_type": "code",
   "execution_count": 7,
   "id": "39cf129c-8106-4e67-a2f1-1a7fff17cd38",
   "metadata": {},
   "outputs": [
    {
     "name": "stdout",
     "output_type": "stream",
     "text": [
      "Area of Mandlebrot set =   3.80247750 +/-   0.00380248\n",
      "Correct answer should be around 1.510659\n"
     ]
    }
   ],
   "source": [
    "main();"
   ]
  }
 ],
 "metadata": {
  "kernelspec": {
   "display_name": "C++17 (xcpp+OpenMP)",
   "language": "cpp",
   "name": "xcpp17-omp"
  },
  "language_info": {
   "codemirror_mode": "text/x-c++src",
   "file_extension": ".cpp",
   "mimetype": "text/x-c++src",
   "name": "C++",
   "version": "17"
  }
 },
 "nbformat": 4,
 "nbformat_minor": 5
}
