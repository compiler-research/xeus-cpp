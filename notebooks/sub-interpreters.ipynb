{
 "cells": [
  {
   "cell_type": "markdown",
   "id": "fb74181a-b881-4ae9-9224-495425707762",
   "metadata": {},
   "source": [
    "**Default Interpreter of the Kernel**"
   ]
  },
  {
   "cell_type": "code",
   "execution_count": 1,
   "id": "e5375e1a-347b-461e-97ac-1a5bc708c896",
   "metadata": {
    "vscode": {
     "languageId": "c++"
    }
   },
   "outputs": [
    {
     "name": "stdout",
     "output_type": "stream",
     "text": [
      "201703\n"
     ]
    }
   ],
   "source": [
    "#include <iostream>\n",
    "std::cout << __cplusplus << std::endl;"
   ]
  },
  {
   "cell_type": "markdown",
   "id": "7ec1684f-ce9a-4614-8f7c-8391b68f7eb5",
   "metadata": {},
   "source": [
    "**Creating New Sub-Interpreter with `-std=c++23`**\n",
    "\n",
    "_We give it a name `cpp23` to re-use later_"
   ]
  },
  {
   "cell_type": "code",
   "execution_count": 2,
   "id": "756696a7-c8db-4302-8794-029664673952",
   "metadata": {
    "vscode": {
     "languageId": "c++"
    }
   },
   "outputs": [
    {
     "name": "stdout",
     "output_type": "stream",
     "text": [
      "Elapsed time (C++23): 5.97e-06 seconds\n"
     ]
    }
   ],
   "source": [
    "%%subinterp -Wall -O3 --std=c++23 --name cpp23\n",
    "\n",
    "#include <iostream>\n",
    "#include <vector>\n",
    "#include <ranges>\n",
    "#include <chrono>\n",
    "\n",
    "void version() { std::cout << __cplusplus << std::endl; }\n",
    "\n",
    "template <std::ranges::range R> constexpr auto to_vector(R&& r) { return std::vector<std::decay_t<std::ranges::range_value_t<R>>>{r.begin(), r.end()}; }\n",
    "\n",
    "void run() {\n",
    "    std::vector<int> numbers(10'000);\n",
    "    for (int i = 0; i < 10'000; i++) numbers.push_back(i);\n",
    "    \n",
    "    auto start = std::chrono::high_resolution_clock::now();\n",
    "    std::vector<int> result = to_vector(\n",
    "        numbers \n",
    "            | std::views::filter([](int n) { return n % 2 != 0; })  // filter out even numbers\n",
    "            | std::views::transform([](int n) { return n * 2; }));   // multiply remaining by 2\n",
    "    auto end = std::chrono::high_resolution_clock::now();\n",
    "    \n",
    "    std::chrono::duration<double> elapsed = end - start;\n",
    "    std::cout << \"Elapsed time (C++23): \" << elapsed.count() << \" seconds\\n\";\n",
    "}\n",
    "run();"
   ]
  },
  {
   "cell_type": "markdown",
   "id": "1a31f103-b92a-44e9-bf42-61709340bdc4",
   "metadata": {},
   "source": [
    "**Creating Another Sub-Interpreter with `-std=c++11`**"
   ]
  },
  {
   "cell_type": "code",
   "execution_count": 3,
   "id": "4f3391f7-0a38-4cd9-af2b-33245a06db84",
   "metadata": {
    "vscode": {
     "languageId": "c++"
    }
   },
   "outputs": [
    {
     "name": "stdout",
     "output_type": "stream",
     "text": [
      "Elapsed time (C++11): 5.22e-06 seconds\n"
     ]
    }
   ],
   "source": [
    "%%subinterp -O3 --std=c++11 --name cpp11\n",
    "\n",
    "#include <iostream>\n",
    "#include <vector>\n",
    "#include <algorithm>\n",
    "#include <chrono>\n",
    "\n",
    "void version() { std::cout << __cplusplus << std::endl; }\n",
    "\n",
    "void run() {\n",
    "    std::vector<int> numbers(10000);\n",
    "    for (int i = 0; i < 10000; i++) numbers.push_back(i);\n",
    "    std::vector<int> result;\n",
    "\n",
    "    auto start = std::chrono::high_resolution_clock::now();\n",
    "    std::copy_if(numbers.begin(), numbers.end(), std::back_inserter(result),\n",
    "        [](int n) { return n % 2 != 0; }); // filter out even numbers\n",
    "    std::transform(result.begin(), result.end(), result.begin(),\n",
    "        [](int n) { return n * 2; }); // multiply remaining by 2\n",
    "    auto end = std::chrono::high_resolution_clock::now();\n",
    "    \n",
    "    std::chrono::duration<double> elapsed = end - start;\n",
    "    std::cout << \"Elapsed time (C++11): \" << elapsed.count() << \" seconds\\n\";\n",
    "}\n",
    "run();"
   ]
  },
  {
   "cell_type": "markdown",
   "id": "63cecedc-0e72-43fd-80e4-36a612a8042b",
   "metadata": {},
   "source": [
    "**Re-Using the Interpreter Created Previously**"
   ]
  },
  {
   "cell_type": "code",
   "execution_count": 4,
   "id": "600da197-f902-4cf4-a401-a848e08aa638",
   "metadata": {
    "vscode": {
     "languageId": "c++"
    }
   },
   "outputs": [
    {
     "name": "stdout",
     "output_type": "stream",
     "text": [
      "202302\n"
     ]
    }
   ],
   "source": [
    "%%subinterp --use cpp23\n",
    "version();"
   ]
  },
  {
   "cell_type": "code",
   "execution_count": 5,
   "id": "2c2fa915-a6de-4477-b4f8-6c342720c224",
   "metadata": {
    "vscode": {
     "languageId": "c++"
    }
   },
   "outputs": [
    {
     "name": "stdout",
     "output_type": "stream",
     "text": [
      "201103\n"
     ]
    }
   ],
   "source": [
    "%%subinterp --use cpp11\n",
    "version();"
   ]
  }
 ],
 "metadata": {
  "kernelspec": {
   "display_name": "C++17",
   "language": "cpp",
   "name": "xcpp17"
  },
  "language_info": {
   "codemirror_mode": "text/x-c++src",
   "file_extension": ".cpp",
   "mimetype": "text/x-c++src",
   "name": "C++",
   "version": "17"
  }
 },
 "nbformat": 4,
 "nbformat_minor": 5
}
