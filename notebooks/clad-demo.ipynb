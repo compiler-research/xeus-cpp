{
 "cells": [
  {
   "cell_type": "code",
   "execution_count": 1,
   "id": "74f52cc2-bfda-4fee-9cd9-94d683a8b7e1",
   "metadata": {},
   "outputs": [],
   "source": [
    "#include \"clad/Differentiator/Differentiator.h\""
   ]
  },
  {
   "cell_type": "code",
   "execution_count": 2,
   "id": "55453d37-e8af-4cb7-8f82-550e9cf88b3c",
   "metadata": {},
   "outputs": [],
   "source": [
    "// Rosenbrock function declaration\n",
    "double rosenbrock_func(double x, double y) {\n",
    "return (x - 1) * (x - 1) + 100 * (y - x * x) * (y - x * x);\n",
    "}"
   ]
  },
  {
   "cell_type": "code",
   "execution_count": 3,
   "id": "9098b6e4-87a7-497d-9a1b-dddeb813dc56",
   "metadata": {},
   "outputs": [],
   "source": [
    "double rosenbrock_forward(double x[], int size) {\n",
    "    double sum = 0;\n",
    "    auto rosenbrockX = clad::differentiate(rosenbrock_func, 0);\n",
    "    auto rosenbrockY = clad::differentiate(rosenbrock_func, 1);\n",
    "    for (int i = 0; i < size-1; i++) {\n",
    "        double one = rosenbrockX.execute(x[i], x[i + 1]);\n",
    "        double two = rosenbrockY.execute(x[i], x[i + 1]);\n",
    "            sum = sum + one + two;\n",
    "    }\n",
    "    return sum;\n",
    "}"
   ]
  },
  {
   "cell_type": "code",
   "execution_count": 4,
   "id": "e771bbdc-3979-43df-9ed9-3429ee713b5d",
   "metadata": {},
   "outputs": [],
   "source": [
    "const int size = 100000000;\n",
    "double Xarray[size];\n",
    "for(int i=0;i<size;i++)\n",
    "  Xarray[i]=((double)rand()/RAND_MAX);"
   ]
  },
  {
   "cell_type": "code",
   "execution_count": 5,
   "id": "e74f85c2-a3bc-4562-a9ae-321eb306e8ff",
   "metadata": {},
   "outputs": [],
   "source": [
    "double r = rosenbrock_forward(Xarray, size);"
   ]
  },
  {
   "cell_type": "code",
   "execution_count": 6,
   "id": "184cebf3-a98f-4c07-97c6-c878be3740c8",
   "metadata": {},
   "outputs": [
    {
     "name": "stdout",
     "output_type": "stream",
     "text": [
      "3232947666.004954\n"
     ]
    }
   ],
   "source": [
    "printf(\"%f\\n\", r);"
   ]
  },
  {
   "cell_type": "code",
   "execution_count": null,
   "id": "3f68f1fe-24ca-40fb-997b-6f47a6b81ee7",
   "metadata": {},
   "outputs": [],
   "source": []
  }
 ],
 "metadata": {
  "kernelspec": {
   "display_name": "C++17 (+Clad)",
   "language": "C++17",
   "name": "clad-xcpp17"
  },
  "language_info": {
   "codemirror_mode": "text/x-c++src",
   "file_extension": ".cpp",
   "mimetype": "text/x-c++src",
   "name": "C++",
   "version": "17"
  }
 },
 "nbformat": 4,
 "nbformat_minor": 5
}
}